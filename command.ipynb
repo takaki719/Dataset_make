{
 "cells": [
  {
   "cell_type": "markdown",
   "metadata": {},
   "source": [
    "OpenPose:\n",
    "-- input_dir "
   ]
  },
  {
   "cell_type": "code",
   "execution_count": null,
   "metadata": {},
   "outputs": [],
   "source": [
    "! /media/il/local2/Virtual_try_on/Preprocessing/modules/openpose/build/examples/openpose/openpose.bin --image_dir /media/il/local2/Virtual_try_on/Preprocessing/stableVTON/image  --hand -disable_blending --display 0 --write_json /media/il/local2/Virtual_try_on/Preprocessing/stableVTON/openpose_json --write_images /media/il/local2/Virtual_try_on/Preprocessing/stableVTON/openpose_img --num_gpu 1 --num_gpu_start 0 "
   ]
  },
  {
   "cell_type": "code",
   "execution_count": null,
   "metadata": {},
   "outputs": [],
   "source": [
    "! /media/il/local2/Virtual_try_on/Preprocessing/modules/openpose/build/examples/openpose/openpose.bin --image_dir /media/il/local2/Virtual_try_on/Preprocessing/output/back_ground --hand -disable_blending --display 0 --write_json /media/il/local2/Virtual_try_on/Preprocessing/output/json --write_images /media/il/local2/Virtual_try_on/Preprocessing/output/image--num_gpu 1 --num_gpu_start 0 "
   ]
  },
  {
   "cell_type": "markdown",
   "metadata": {},
   "source": [
    "Human Parse\n"
   ]
  },
  {
   "cell_type": "code",
   "execution_count": null,
   "metadata": {},
   "outputs": [],
   "source": [
    "!python ./modules/CIHP_PGN/inference_pgn.py　#CIHP_PGN conda activate tf"
   ]
  },
  {
   "cell_type": "markdown",
   "metadata": {},
   "source": [
    "densepose　"
   ]
  },
  {
   "cell_type": "code",
   "execution_count": null,
   "metadata": {},
   "outputs": [],
   "source": [
    "!python ./modules/detectron2/projects/DensePose/apply_net.py show configs/densepose_rcnn_R_50_FPN_s1x.yaml \\\n",
    "https://dl.fbaipublicfiles.com/densepose/densepose_rcnn_R_50_FPN_s1x/165712039/model_final_162be9.pkl \\\n",
    "image_path dp_segm -v           "
   ]
  },
  {
   "cell_type": "markdown",
   "metadata": {},
   "source": [
    "cloth mark\n"
   ]
  },
  {
   "cell_type": "code",
   "execution_count": null,
   "metadata": {},
   "outputs": [],
   "source": [
    "!python cloth_mask.py"
   ]
  },
  {
   "cell_type": "markdown",
   "metadata": {},
   "source": [
    "parse_agnostic\n"
   ]
  },
  {
   "cell_type": "code",
   "execution_count": null,
   "metadata": {},
   "outputs": [],
   "source": [
    "python human_agnostic.py"
   ]
  }
 ],
 "metadata": {
  "kernelspec": {
   "display_name": "pre_venv",
   "language": "python",
   "name": "python3"
  },
  "language_info": {
   "name": "python",
   "version": "3.9.18"
  }
 },
 "nbformat": 4,
 "nbformat_minor": 2
}
